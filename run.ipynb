{
 "cells": [
  {
   "cell_type": "code",
   "execution_count": 7,
   "id": "938c2a72",
   "metadata": {},
   "outputs": [
    {
     "ename": "ImportError",
     "evalue": "cannot import name 'classify_demographics' from 'fairface_eval' (c:\\Users\\wow01\\Downloads\\drive-download-20250524T045859Z-1-001\\fairface_eval.py)",
     "output_type": "error",
     "traceback": [
      "\u001b[1;31m---------------------------------------------------------------------------\u001b[0m",
      "\u001b[1;31mImportError\u001b[0m                               Traceback (most recent call last)",
      "Cell \u001b[1;32mIn[7], line 2\u001b[0m\n\u001b[0;32m      1\u001b[0m \u001b[38;5;28;01mimport\u001b[39;00m\u001b[38;5;250m \u001b[39m\u001b[38;5;21;01mtorch\u001b[39;00m\n\u001b[1;32m----> 2\u001b[0m \u001b[38;5;28;01mfrom\u001b[39;00m\u001b[38;5;250m \u001b[39m\u001b[38;5;21;01mfairface_eval\u001b[39;00m\u001b[38;5;250m \u001b[39m\u001b[38;5;28;01mimport\u001b[39;00m classify_demographics, load_fairface_model\n\u001b[0;32m      4\u001b[0m \u001b[38;5;66;03m# 1. Define the device\u001b[39;00m\n\u001b[0;32m      5\u001b[0m device \u001b[38;5;241m=\u001b[39m torch\u001b[38;5;241m.\u001b[39mdevice(\u001b[38;5;124m\"\u001b[39m\u001b[38;5;124mcuda\u001b[39m\u001b[38;5;124m\"\u001b[39m \u001b[38;5;28;01mif\u001b[39;00m torch\u001b[38;5;241m.\u001b[39mcuda\u001b[38;5;241m.\u001b[39mis_available() \u001b[38;5;28;01melse\u001b[39;00m \u001b[38;5;124m\"\u001b[39m\u001b[38;5;124mcpu\u001b[39m\u001b[38;5;124m\"\u001b[39m)\n",
      "\u001b[1;31mImportError\u001b[0m: cannot import name 'classify_demographics' from 'fairface_eval' (c:\\Users\\wow01\\Downloads\\drive-download-20250524T045859Z-1-001\\fairface_eval.py)"
     ]
    }
   ],
   "source": [
    "import torch\n",
    "from fairface_eval import classify_demographics, load_fairface_model\n",
    "\n",
    "# 1. Define the device\n",
    "device = torch.device(\"cuda\" if torch.cuda.is_available() else \"cpu\")\n",
    "\n",
    "# 2. Load the FairFace model \n",
    "model_path = \"Fairface/res34_fair_align_multi_7_20190809.pt\"\n",
    "model = load_fairface_model(model_path, device)\n",
    "\n",
    "# 3. Run prediction on an image (replace with your actual image path)\n",
    "image_path = \"Fairface/examples/male.png\"\n",
    "gender, race = classify_demographics(image_path, model, device)\n",
    "\n",
    "print(f\"Predicted Gender: {gender}\")\n",
    "print(f\"Predicted Race: {race}\")"
   ]
  }
 ],
 "metadata": {
  "kernelspec": {
   "display_name": "Python 3",
   "language": "python",
   "name": "python3"
  },
  "language_info": {
   "codemirror_mode": {
    "name": "ipython",
    "version": 3
   },
   "file_extension": ".py",
   "mimetype": "text/x-python",
   "name": "python",
   "nbconvert_exporter": "python",
   "pygments_lexer": "ipython3",
   "version": "3.11.9"
  }
 },
 "nbformat": 4,
 "nbformat_minor": 5
}
